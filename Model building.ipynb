{
 "cells": [
  {
   "cell_type": "code",
   "execution_count": 1,
   "id": "d7759659",
   "metadata": {},
   "outputs": [],
   "source": [
    "import pandas as pd\n",
    "import numpy as np\n",
    "from sklearn.metrics import accuracy_score, confusion_matrix, recall_score, classification_report\n",
    "from sklearn.tree import DecisionTreeClassifier\n",
    "from sklearn.model_selection import train_test_split"
   ]
  },
  {
   "cell_type": "code",
   "execution_count": null,
   "id": "96b773a4",
   "metadata": {},
   "outputs": [],
   "source": [
    "!pip install imblearn  # specifically designed to deal with imbalanced datasets"
   ]
  },
  {
   "cell_type": "code",
   "execution_count": 2,
   "id": "9fbcf1b5",
   "metadata": {},
   "outputs": [],
   "source": [
    "from imblearn.combine import SMOTEENN #By generating new synthetic samples, instead of simply duplicating existing samples, SMOTE can help to reduce the risk of overfitting which commonly accompanies random oversampling."
   ]
  },
  {
   "cell_type": "code",
   "execution_count": null,
   "id": "ecc3a800",
   "metadata": {},
   "outputs": [],
   "source": [
    "data = pd.read_csv('cust_churn_dummy_var.csv')\n",
    "data"
   ]
  },
  {
   "cell_type": "code",
   "execution_count": null,
   "id": "97820017",
   "metadata": {},
   "outputs": [],
   "source": [
    "data.drop(columns=['Unnamed: 0'], axis=1, inplace=True)"
   ]
  },
  {
   "cell_type": "code",
   "execution_count": null,
   "id": "a02009af",
   "metadata": {},
   "outputs": [],
   "source": [
    "data"
   ]
  },
  {
   "cell_type": "code",
   "execution_count": null,
   "id": "6c392292",
   "metadata": {},
   "outputs": [],
   "source": [
    "x = data.drop('Churn',axis=True)\n",
    "y = data['Churn']"
   ]
  },
  {
   "cell_type": "code",
   "execution_count": null,
   "id": "6313a63f",
   "metadata": {},
   "outputs": [],
   "source": [
    "y"
   ]
  },
  {
   "cell_type": "code",
   "execution_count": null,
   "id": "89e0c669",
   "metadata": {},
   "outputs": [],
   "source": [
    "x_train,x_test,y_train,y_test = train_test_split(x,y,test_size=0.2,random_state=42)"
   ]
  },
  {
   "cell_type": "markdown",
   "id": "0d32af3b",
   "metadata": {},
   "source": [
    "## Using DecisionTreeClassifier"
   ]
  },
  {
   "cell_type": "code",
   "execution_count": null,
   "id": "52dc07a8",
   "metadata": {},
   "outputs": [],
   "source": [
    "dtc = DecisionTreeClassifier(criterion='gini',random_state=42, max_depth=6,min_samples_leaf=8) # used random parameters"
   ]
  },
  {
   "cell_type": "code",
   "execution_count": null,
   "id": "e8f48d2a",
   "metadata": {},
   "outputs": [],
   "source": [
    "dtc.fit(x_train,y_train)"
   ]
  },
  {
   "cell_type": "code",
   "execution_count": null,
   "id": "a4f8910a",
   "metadata": {},
   "outputs": [],
   "source": [
    "y_pred = dtc.predict(x_test)"
   ]
  },
  {
   "cell_type": "code",
   "execution_count": null,
   "id": "250ff1c6",
   "metadata": {},
   "outputs": [],
   "source": [
    "accuracy_score(y_test,y_pred)"
   ]
  },
  {
   "cell_type": "code",
   "execution_count": null,
   "id": "e305e953",
   "metadata": {},
   "outputs": [],
   "source": [
    "confusion_matrix(y_test,y_pred)"
   ]
  },
  {
   "cell_type": "code",
   "execution_count": null,
   "id": "d233e462",
   "metadata": {},
   "outputs": [],
   "source": [
    "print(classification_report(y_test,y_pred))"
   ]
  },
  {
   "cell_type": "code",
   "execution_count": null,
   "id": "c57f1f45",
   "metadata": {},
   "outputs": [],
   "source": [
    "accuracy_score(dtc.predict(x_train),y_train)"
   ]
  },
  {
   "cell_type": "code",
   "execution_count": null,
   "id": "6cc7e65f",
   "metadata": {},
   "outputs": [],
   "source": [
    "# Hperparameter Tuning\n",
    "from sklearn.tree import DecisionTreeClassifier\n",
    "dtc_dummy = DecisionTreeClassifier(random_state=42)\n",
    "from sklearn.model_selection import GridSearchCV\n",
    "params = {\n",
    "    'max_depth': [2, 3,4, 5,7,8,9,10, 20],\n",
    "    'min_samples_leaf': [5,6,7,8,9,10,11,12,13,14,15,20, 50, 100,101,102,103,105,110],\n",
    "    'criterion': [\"gini\", \"entropy\"]\n",
    "}\n",
    "grid_search = GridSearchCV(estimator=dtc_dummy, \n",
    "                           param_grid=params, \n",
    "                           cv=5, n_jobs=-1, verbose=1, scoring = \"accuracy\")\n",
    "grid_search.fit(x_train, y_train)\n",
    "grid_search.best_estimator_"
   ]
  },
  {
   "cell_type": "code",
   "execution_count": null,
   "id": "49b41663",
   "metadata": {},
   "outputs": [],
   "source": [
    "dtc_hyp_tuned = DecisionTreeClassifier(criterion='entropy',random_state=42, max_depth=7,min_samples_leaf=101) # tuned parameters "
   ]
  },
  {
   "cell_type": "code",
   "execution_count": null,
   "id": "16f229cb",
   "metadata": {},
   "outputs": [],
   "source": [
    "dtc_hyp_tuned.fit(x_train,y_train)\n",
    "y_pred = dtc_hyp_tuned.predict(x_test)"
   ]
  },
  {
   "cell_type": "code",
   "execution_count": null,
   "id": "098e04d4",
   "metadata": {},
   "outputs": [],
   "source": [
    "print(accuracy_score(y_test,y_pred))\n",
    "print(accuracy_score(dtc_hyp_tuned.predict(x_train),y_train))"
   ]
  },
  {
   "cell_type": "markdown",
   "id": "7dcb829d",
   "metadata": {},
   "source": [
    "dtc --> random parameters||\n",
    "dtc_hyp_tuned --> Tuned Parameters||\n",
    "dtc_dummy --> dummy function made for cross validation"
   ]
  },
  {
   "cell_type": "code",
   "execution_count": null,
   "id": "85c0396f",
   "metadata": {},
   "outputs": [],
   "source": [
    "# since the model is not performing well either on training as well as test even after Hyperparameter Tuning"
   ]
  },
  {
   "cell_type": "code",
   "execution_count": null,
   "id": "05b00148",
   "metadata": {},
   "outputs": [],
   "source": [
    "# to make data balanced we will use smoteenn technique"
   ]
  },
  {
   "cell_type": "code",
   "execution_count": null,
   "id": "16dc9944",
   "metadata": {},
   "outputs": [],
   "source": [
    "smn = SMOTEENN()\n",
    "x_new, y_new = smn.fit_resample(x,y)"
   ]
  },
  {
   "cell_type": "code",
   "execution_count": null,
   "id": "357f342c",
   "metadata": {},
   "outputs": [],
   "source": [
    "x_new_train, x_new_test, y_new_train, y_new_test = train_test_split(x_new,y_new,test_size=0.2)"
   ]
  },
  {
   "cell_type": "markdown",
   "id": "4991884c",
   "metadata": {},
   "source": [
    "Results after SMOTEENN"
   ]
  },
  {
   "cell_type": "code",
   "execution_count": null,
   "id": "3ffc41a6",
   "metadata": {},
   "outputs": [],
   "source": [
    "# Result with Random hyperparameters\n",
    "dtc.fit(x_new_train,y_new_train)\n",
    "y_new_pred = dtc.predict(x_new_test)\n",
    "accuracy_score(y_new_test,y_new_pred)"
   ]
  },
  {
   "cell_type": "code",
   "execution_count": null,
   "id": "8b23c951",
   "metadata": {},
   "outputs": [],
   "source": [
    "# Result with Tuned hyperparameters\n",
    "dtc_hyp_tuned.fit(x_new_train,y_new_train)\n",
    "y_new_pred = dtc_hyp_tuned.predict(x_new_test)\n",
    "accuracy_score(y_new_test,y_new_pred)"
   ]
  },
  {
   "cell_type": "code",
   "execution_count": null,
   "id": "d9917590",
   "metadata": {},
   "outputs": [],
   "source": [
    "confusion_matrix(y_new_test,y_new_pred)"
   ]
  },
  {
   "cell_type": "code",
   "execution_count": null,
   "id": "a120e26d",
   "metadata": {},
   "outputs": [],
   "source": []
  },
  {
   "cell_type": "markdown",
   "id": "728d7bbd",
   "metadata": {},
   "source": [
    "K-Fold Cross Validation"
   ]
  },
  {
   "cell_type": "code",
   "execution_count": null,
   "id": "a2c57cc3",
   "metadata": {},
   "outputs": [],
   "source": [
    "# K-Fold Cross-Validation\n",
    "from sklearn.model_selection import cross_validate\n",
    "def cross_validation(model, x, y, cv=10):\n",
    "    \n",
    "    score = ['accuracy', 'precision', 'recall', 'f1']\n",
    "    results = cross_validate(estimator=model,\n",
    "                               X=x,\n",
    "                               y=y,\n",
    "                               cv=cv,\n",
    "                               scoring=score,\n",
    "                               return_train_score=True)\n",
    "      \n",
    "    print(\n",
    "          \"Mean Validation Accuracy \", results['test_accuracy'].mean(),\"\\n\",\n",
    "          \"Mean Validation Precision \", results['test_precision'].mean(),\"\\n\",\n",
    "          \"Mean Validation Recall \", results['test_recall'].mean(),\"\\n\",\n",
    "          \"Mean Validation F1 Score \", results['test_f1'].mean())"
   ]
  },
  {
   "cell_type": "code",
   "execution_count": null,
   "id": "8afe73ab",
   "metadata": {},
   "outputs": [],
   "source": [
    "# without using SMOTEENN data"
   ]
  },
  {
   "cell_type": "code",
   "execution_count": null,
   "id": "2221a926",
   "metadata": {},
   "outputs": [],
   "source": [
    "print(\"UnTuned_parameters Results:\\n\")\n",
    "\n",
    "decision_tree_result = cross_validation(dtc_dummy,x_train, y_train, 5)\n",
    "print(decision_tree_result)\n",
    "# very bad score for recall, F1 score"
   ]
  },
  {
   "cell_type": "code",
   "execution_count": null,
   "id": "683b6e31",
   "metadata": {},
   "outputs": [],
   "source": [
    "decision_tree_result = cross_validation(dtc,x_train, y_train, 5)\n",
    "print(decision_tree_result)"
   ]
  },
  {
   "cell_type": "code",
   "execution_count": null,
   "id": "f9e1c6a9",
   "metadata": {},
   "outputs": [],
   "source": [
    "print(\"Tuned_parameters Results:\\n\")\n",
    "decision_tree_result = cross_validation(dtc_hyp_tuned,x_train, y_train, 5)\n",
    "print(decision_tree_result)"
   ]
  },
  {
   "cell_type": "code",
   "execution_count": null,
   "id": "6746bb2b",
   "metadata": {},
   "outputs": [],
   "source": [
    "# dtc_hyp_tuned is comparatively performinng well for imbalanced data"
   ]
  },
  {
   "cell_type": "code",
   "execution_count": null,
   "id": "61033bfb",
   "metadata": {},
   "outputs": [],
   "source": [
    "# now apply on SMOOTEENN data\n",
    "decision_tree_result = cross_validation(dtc,x_new_train, y_new_train, 5)\n",
    "print(decision_tree_result)\n",
    "print(\"\\n\")"
   ]
  },
  {
   "cell_type": "code",
   "execution_count": null,
   "id": "08a31c34",
   "metadata": {},
   "outputs": [],
   "source": [
    "# SMOOTEENN improves the overall score"
   ]
  },
  {
   "cell_type": "code",
   "execution_count": null,
   "id": "131b0279",
   "metadata": {},
   "outputs": [],
   "source": [
    "# saving the model\n",
    "import pickle\n",
    "filename = 'dtc.sav'\n",
    "pickle.dump(dtc,open(filename,'wb'))"
   ]
  },
  {
   "cell_type": "markdown",
   "id": "e50bd0c3",
   "metadata": {},
   "source": [
    "## Now Checking with Random Forest Classifier"
   ]
  },
  {
   "cell_type": "code",
   "execution_count": null,
   "id": "ecaf1800",
   "metadata": {},
   "outputs": [],
   "source": [
    "from sklearn.ensemble import RandomForestClassifier"
   ]
  },
  {
   "cell_type": "code",
   "execution_count": null,
   "id": "447008f1",
   "metadata": {},
   "outputs": [],
   "source": [
    "rfc = RandomForestClassifier()\n",
    "rfc.fit(x_train,y_train)\n",
    "y_pred = rfc.predict(x_test)"
   ]
  },
  {
   "cell_type": "code",
   "execution_count": null,
   "id": "3ea4bcc1",
   "metadata": {
    "scrolled": true
   },
   "outputs": [],
   "source": [
    "print(classification_report(y_test,y_pred))"
   ]
  },
  {
   "cell_type": "code",
   "execution_count": null,
   "id": "72ffea01",
   "metadata": {},
   "outputs": [],
   "source": [
    "accuracy_score(y_test,y_pred)"
   ]
  },
  {
   "cell_type": "code",
   "execution_count": null,
   "id": "0a35c88b",
   "metadata": {},
   "outputs": [],
   "source": [
    "# Bit of score is improved in comparison to decision tree classifier"
   ]
  },
  {
   "cell_type": "code",
   "execution_count": null,
   "id": "614e3610",
   "metadata": {},
   "outputs": [],
   "source": [
    "rfc.fit(x_new_train,y_new_train)\n",
    "y_new_pred = rfc.predict(x_new_test)"
   ]
  },
  {
   "cell_type": "code",
   "execution_count": null,
   "id": "597d9db1",
   "metadata": {},
   "outputs": [],
   "source": [
    "accuracy_score(y_new_pred,y_new_test)"
   ]
  },
  {
   "cell_type": "code",
   "execution_count": null,
   "id": "63906626",
   "metadata": {},
   "outputs": [],
   "source": [
    "print(classification_report(y_new_pred,y_new_test))"
   ]
  },
  {
   "cell_type": "code",
   "execution_count": null,
   "id": "a4d4b2b4",
   "metadata": {},
   "outputs": [],
   "source": [
    "# amazing score by using the SMOOTEENN data"
   ]
  },
  {
   "cell_type": "code",
   "execution_count": null,
   "id": "2429c0df",
   "metadata": {},
   "outputs": [],
   "source": [
    "# K-Fold Cross-Validation\n",
    "from sklearn.model_selection import cross_validate\n",
    "def cross_validation(model, x, y, cv):\n",
    "    \n",
    "    score = ['accuracy', 'precision', 'recall', 'f1']\n",
    "    results = cross_validate(estimator=model,\n",
    "                               X=x,\n",
    "                               y=y,\n",
    "                               cv=cv,\n",
    "                               scoring=score,\n",
    "                               return_train_score=True)\n",
    "      \n",
    "    print(\n",
    "          \"Mean Validation Accuracy \", results['test_accuracy'].mean(),\"\\n\",\n",
    "          \"Mean Validation Precision \", results['test_precision'].mean(),\"\\n\",\n",
    "          \"Mean Validation Recall \", results['test_recall'].mean(),\"\\n\",\n",
    "          \"Mean Validation F1 Score \", results['test_f1'].mean())"
   ]
  },
  {
   "cell_type": "code",
   "execution_count": null,
   "id": "e29f6d91",
   "metadata": {},
   "outputs": [],
   "source": [
    "result1 = cross_validation(rfc,x_new_train, y_new_train, 10)\n",
    "print(result1)\n",
    "print(\"\\n\")"
   ]
  },
  {
   "cell_type": "code",
   "execution_count": null,
   "id": "5e225af6",
   "metadata": {},
   "outputs": [],
   "source": [
    "print(confusion_matrix(y_new_pred,y_new_test))"
   ]
  },
  {
   "cell_type": "code",
   "execution_count": null,
   "id": "62172573",
   "metadata": {},
   "outputs": [],
   "source": [
    "# random forest is performing more than decisiontree classifier by some amount"
   ]
  },
  {
   "cell_type": "code",
   "execution_count": null,
   "id": "313462a3",
   "metadata": {},
   "outputs": [],
   "source": [
    "# saving the model\n",
    "import pickle\n",
    "filename = 'rfc.sav'\n",
    "pickle.dump(rfc,open(filename,'wb'))"
   ]
  },
  {
   "cell_type": "code",
   "execution_count": null,
   "id": "d52cd611",
   "metadata": {},
   "outputs": [],
   "source": [
    "load_rfc = pickle.load(open(filename,'rb'))"
   ]
  },
  {
   "cell_type": "code",
   "execution_count": null,
   "id": "78bae901",
   "metadata": {},
   "outputs": [],
   "source": [
    "load_rfc"
   ]
  },
  {
   "cell_type": "code",
   "execution_count": null,
   "id": "7ddd2dfd",
   "metadata": {},
   "outputs": [],
   "source": [
    "load_rfc.score(x_new_test,y_new_test)"
   ]
  },
  {
   "cell_type": "markdown",
   "id": "71871df3",
   "metadata": {},
   "source": [
    "### Using XGBClassifier"
   ]
  },
  {
   "cell_type": "code",
   "execution_count": 16,
   "id": "f5463152",
   "metadata": {},
   "outputs": [],
   "source": [
    "from xgboost import XGBClassifier\n",
    "xgb= XGBClassifier()"
   ]
  },
  {
   "cell_type": "code",
   "execution_count": 17,
   "id": "122409aa",
   "metadata": {},
   "outputs": [
    {
     "name": "stdout",
     "output_type": "stream",
     "text": [
      "              precision    recall  f1-score   support\n",
      "\n",
      "           0       0.96      0.97      0.96       563\n",
      "           1       0.97      0.97      0.97       678\n",
      "\n",
      "    accuracy                           0.97      1241\n",
      "   macro avg       0.97      0.97      0.97      1241\n",
      "weighted avg       0.97      0.97      0.97      1241\n",
      "\n"
     ]
    }
   ],
   "source": [
    "xgb.fit(x_new_train,y_new_train)\n",
    "y_new_pred = xgb.predict(x_new_test)\n",
    "print(classification_report(y_new_pred,y_new_test))"
   ]
  },
  {
   "cell_type": "code",
   "execution_count": null,
   "id": "964c68a3",
   "metadata": {},
   "outputs": [],
   "source": [
    "from sklearn.model_selection import GridSearchCV\n",
    "param_grid = {\n",
    "              'learning_rate': [ 0.25, 0.3,0.4,0.5],\n",
    "              'max_depth': [7,8,9,10,11],\n",
    "              'n_estimators': [113,114,115]\n",
    "             }\n",
    "\n",
    "gsc = GridSearchCV(XGBClassifier(n_jobs=-1), param_grid=param_grid, n_jobs=-1, cv=3,scoring='accuracy')\n",
    "gsc.fit(x_new_train, y_new_train)\n",
    "\n",
    "print('Best score:', gsc.best_score_)\n",
    "print('Best score:', gsc.best_params_)"
   ]
  },
  {
   "cell_type": "code",
   "execution_count": 20,
   "id": "4eec712d",
   "metadata": {},
   "outputs": [
    {
     "name": "stdout",
     "output_type": "stream",
     "text": [
      "              precision    recall  f1-score   support\n",
      "\n",
      "           0       0.95      0.97      0.96       559\n",
      "           1       0.97      0.96      0.97       682\n",
      "\n",
      "    accuracy                           0.96      1241\n",
      "   macro avg       0.96      0.96      0.96      1241\n",
      "weighted avg       0.96      0.96      0.96      1241\n",
      "\n"
     ]
    }
   ],
   "source": [
    "xgb= XGBClassifier(learning_rate = 0.4, max_depth =9,n_estimators =114)\n",
    "xgb.fit(x_new_train,y_new_train)\n",
    "y_new_pred = xgb.predict(x_new_test)\n",
    "print(classification_report(y_new_pred,y_new_test))"
   ]
  },
  {
   "cell_type": "code",
   "execution_count": 21,
   "id": "3a59967d",
   "metadata": {},
   "outputs": [
    {
     "data": {
      "text/plain": [
       "0.9637389202256245"
      ]
     },
     "execution_count": 21,
     "metadata": {},
     "output_type": "execute_result"
    }
   ],
   "source": [
    "accuracy_score(y_new_pred,y_new_test)"
   ]
  },
  {
   "cell_type": "code",
   "execution_count": 22,
   "id": "15127f77",
   "metadata": {},
   "outputs": [],
   "source": [
    "# XGB Classifer is giving best score"
   ]
  },
  {
   "cell_type": "code",
   "execution_count": 23,
   "id": "a6c6dca8",
   "metadata": {},
   "outputs": [],
   "source": [
    "import pickle\n",
    "filename = 'xgb_Classifier.pkl'\n",
    "pickle.dump(xgb,open(filename,'wb'))"
   ]
  },
  {
   "cell_type": "markdown",
   "id": "e3cbc045",
   "metadata": {},
   "source": [
    "### Using Naive Bayes Classfier"
   ]
  },
  {
   "cell_type": "code",
   "execution_count": 3,
   "id": "f5700159",
   "metadata": {},
   "outputs": [],
   "source": [
    "from sklearn.naive_bayes import GaussianNB"
   ]
  },
  {
   "cell_type": "code",
   "execution_count": 24,
   "id": "c6603c12",
   "metadata": {},
   "outputs": [
    {
     "data": {
      "text/plain": [
       "Index(['Unnamed: 0', 'gender', 'SeniorCitizen', 'Partner', 'Dependents',\n",
       "       'tenure', 'PhoneService', 'MultipleLines', 'OnlineSecurity',\n",
       "       'OnlineBackup', 'DeviceProtection', 'TechSupport', 'StreamingTV',\n",
       "       'StreamingMovies', 'PaperlessBilling', 'MonthlyCharges', 'TotalCharges',\n",
       "       'Churn', 'InternetService_DSL', 'InternetService_Fiber optic',\n",
       "       'InternetService_No', 'Contract_Month-to-month', 'Contract_One year',\n",
       "       'Contract_Two year', 'PaymentMethod_Bank transfer (automatic)',\n",
       "       'PaymentMethod_Credit card (automatic)',\n",
       "       'PaymentMethod_Electronic check', 'PaymentMethod_Mailed check'],\n",
       "      dtype='object')"
      ]
     },
     "execution_count": 24,
     "metadata": {},
     "output_type": "execute_result"
    }
   ],
   "source": [
    "df1 = pd.read_csv('Customer-Churn-Encoded.csv')\n",
    "df1.columns"
   ]
  },
  {
   "cell_type": "code",
   "execution_count": 5,
   "id": "60b649dc",
   "metadata": {},
   "outputs": [],
   "source": [
    "df1.drop(columns=['Unnamed: 0'], axis=1, inplace=True)"
   ]
  },
  {
   "cell_type": "code",
   "execution_count": 6,
   "id": "bb4d6e5d",
   "metadata": {},
   "outputs": [
    {
     "data": {
      "text/html": [
       "<div>\n",
       "<style scoped>\n",
       "    .dataframe tbody tr th:only-of-type {\n",
       "        vertical-align: middle;\n",
       "    }\n",
       "\n",
       "    .dataframe tbody tr th {\n",
       "        vertical-align: top;\n",
       "    }\n",
       "\n",
       "    .dataframe thead th {\n",
       "        text-align: right;\n",
       "    }\n",
       "</style>\n",
       "<table border=\"1\" class=\"dataframe\">\n",
       "  <thead>\n",
       "    <tr style=\"text-align: right;\">\n",
       "      <th></th>\n",
       "      <th>gender</th>\n",
       "      <th>SeniorCitizen</th>\n",
       "      <th>Partner</th>\n",
       "      <th>Dependents</th>\n",
       "      <th>tenure</th>\n",
       "      <th>PhoneService</th>\n",
       "      <th>MultipleLines</th>\n",
       "      <th>OnlineSecurity</th>\n",
       "      <th>OnlineBackup</th>\n",
       "      <th>DeviceProtection</th>\n",
       "      <th>...</th>\n",
       "      <th>InternetService_DSL</th>\n",
       "      <th>InternetService_Fiber optic</th>\n",
       "      <th>InternetService_No</th>\n",
       "      <th>Contract_Month-to-month</th>\n",
       "      <th>Contract_One year</th>\n",
       "      <th>Contract_Two year</th>\n",
       "      <th>PaymentMethod_Bank transfer (automatic)</th>\n",
       "      <th>PaymentMethod_Credit card (automatic)</th>\n",
       "      <th>PaymentMethod_Electronic check</th>\n",
       "      <th>PaymentMethod_Mailed check</th>\n",
       "    </tr>\n",
       "  </thead>\n",
       "  <tbody>\n",
       "    <tr>\n",
       "      <th>0</th>\n",
       "      <td>0</td>\n",
       "      <td>0</td>\n",
       "      <td>1</td>\n",
       "      <td>0</td>\n",
       "      <td>0.013889</td>\n",
       "      <td>0</td>\n",
       "      <td>0</td>\n",
       "      <td>0</td>\n",
       "      <td>1</td>\n",
       "      <td>0</td>\n",
       "      <td>...</td>\n",
       "      <td>1</td>\n",
       "      <td>0</td>\n",
       "      <td>0</td>\n",
       "      <td>1</td>\n",
       "      <td>0</td>\n",
       "      <td>0</td>\n",
       "      <td>0</td>\n",
       "      <td>0</td>\n",
       "      <td>1</td>\n",
       "      <td>0</td>\n",
       "    </tr>\n",
       "    <tr>\n",
       "      <th>1</th>\n",
       "      <td>1</td>\n",
       "      <td>0</td>\n",
       "      <td>0</td>\n",
       "      <td>0</td>\n",
       "      <td>0.472222</td>\n",
       "      <td>1</td>\n",
       "      <td>0</td>\n",
       "      <td>1</td>\n",
       "      <td>0</td>\n",
       "      <td>1</td>\n",
       "      <td>...</td>\n",
       "      <td>1</td>\n",
       "      <td>0</td>\n",
       "      <td>0</td>\n",
       "      <td>0</td>\n",
       "      <td>1</td>\n",
       "      <td>0</td>\n",
       "      <td>0</td>\n",
       "      <td>0</td>\n",
       "      <td>0</td>\n",
       "      <td>1</td>\n",
       "    </tr>\n",
       "    <tr>\n",
       "      <th>2</th>\n",
       "      <td>1</td>\n",
       "      <td>0</td>\n",
       "      <td>0</td>\n",
       "      <td>0</td>\n",
       "      <td>0.027778</td>\n",
       "      <td>1</td>\n",
       "      <td>0</td>\n",
       "      <td>1</td>\n",
       "      <td>1</td>\n",
       "      <td>0</td>\n",
       "      <td>...</td>\n",
       "      <td>1</td>\n",
       "      <td>0</td>\n",
       "      <td>0</td>\n",
       "      <td>1</td>\n",
       "      <td>0</td>\n",
       "      <td>0</td>\n",
       "      <td>0</td>\n",
       "      <td>0</td>\n",
       "      <td>0</td>\n",
       "      <td>1</td>\n",
       "    </tr>\n",
       "    <tr>\n",
       "      <th>3</th>\n",
       "      <td>1</td>\n",
       "      <td>0</td>\n",
       "      <td>0</td>\n",
       "      <td>0</td>\n",
       "      <td>0.625000</td>\n",
       "      <td>0</td>\n",
       "      <td>0</td>\n",
       "      <td>1</td>\n",
       "      <td>0</td>\n",
       "      <td>1</td>\n",
       "      <td>...</td>\n",
       "      <td>1</td>\n",
       "      <td>0</td>\n",
       "      <td>0</td>\n",
       "      <td>0</td>\n",
       "      <td>1</td>\n",
       "      <td>0</td>\n",
       "      <td>1</td>\n",
       "      <td>0</td>\n",
       "      <td>0</td>\n",
       "      <td>0</td>\n",
       "    </tr>\n",
       "    <tr>\n",
       "      <th>4</th>\n",
       "      <td>0</td>\n",
       "      <td>0</td>\n",
       "      <td>0</td>\n",
       "      <td>0</td>\n",
       "      <td>0.027778</td>\n",
       "      <td>1</td>\n",
       "      <td>0</td>\n",
       "      <td>0</td>\n",
       "      <td>0</td>\n",
       "      <td>0</td>\n",
       "      <td>...</td>\n",
       "      <td>0</td>\n",
       "      <td>1</td>\n",
       "      <td>0</td>\n",
       "      <td>1</td>\n",
       "      <td>0</td>\n",
       "      <td>0</td>\n",
       "      <td>0</td>\n",
       "      <td>0</td>\n",
       "      <td>1</td>\n",
       "      <td>0</td>\n",
       "    </tr>\n",
       "    <tr>\n",
       "      <th>...</th>\n",
       "      <td>...</td>\n",
       "      <td>...</td>\n",
       "      <td>...</td>\n",
       "      <td>...</td>\n",
       "      <td>...</td>\n",
       "      <td>...</td>\n",
       "      <td>...</td>\n",
       "      <td>...</td>\n",
       "      <td>...</td>\n",
       "      <td>...</td>\n",
       "      <td>...</td>\n",
       "      <td>...</td>\n",
       "      <td>...</td>\n",
       "      <td>...</td>\n",
       "      <td>...</td>\n",
       "      <td>...</td>\n",
       "      <td>...</td>\n",
       "      <td>...</td>\n",
       "      <td>...</td>\n",
       "      <td>...</td>\n",
       "      <td>...</td>\n",
       "    </tr>\n",
       "    <tr>\n",
       "      <th>7027</th>\n",
       "      <td>1</td>\n",
       "      <td>0</td>\n",
       "      <td>1</td>\n",
       "      <td>1</td>\n",
       "      <td>0.333333</td>\n",
       "      <td>1</td>\n",
       "      <td>1</td>\n",
       "      <td>1</td>\n",
       "      <td>0</td>\n",
       "      <td>1</td>\n",
       "      <td>...</td>\n",
       "      <td>1</td>\n",
       "      <td>0</td>\n",
       "      <td>0</td>\n",
       "      <td>0</td>\n",
       "      <td>1</td>\n",
       "      <td>0</td>\n",
       "      <td>0</td>\n",
       "      <td>0</td>\n",
       "      <td>0</td>\n",
       "      <td>1</td>\n",
       "    </tr>\n",
       "    <tr>\n",
       "      <th>7028</th>\n",
       "      <td>0</td>\n",
       "      <td>0</td>\n",
       "      <td>1</td>\n",
       "      <td>1</td>\n",
       "      <td>1.000000</td>\n",
       "      <td>1</td>\n",
       "      <td>1</td>\n",
       "      <td>0</td>\n",
       "      <td>1</td>\n",
       "      <td>1</td>\n",
       "      <td>...</td>\n",
       "      <td>0</td>\n",
       "      <td>1</td>\n",
       "      <td>0</td>\n",
       "      <td>0</td>\n",
       "      <td>1</td>\n",
       "      <td>0</td>\n",
       "      <td>0</td>\n",
       "      <td>1</td>\n",
       "      <td>0</td>\n",
       "      <td>0</td>\n",
       "    </tr>\n",
       "    <tr>\n",
       "      <th>7029</th>\n",
       "      <td>0</td>\n",
       "      <td>0</td>\n",
       "      <td>1</td>\n",
       "      <td>1</td>\n",
       "      <td>0.152778</td>\n",
       "      <td>0</td>\n",
       "      <td>0</td>\n",
       "      <td>1</td>\n",
       "      <td>0</td>\n",
       "      <td>0</td>\n",
       "      <td>...</td>\n",
       "      <td>1</td>\n",
       "      <td>0</td>\n",
       "      <td>0</td>\n",
       "      <td>1</td>\n",
       "      <td>0</td>\n",
       "      <td>0</td>\n",
       "      <td>0</td>\n",
       "      <td>0</td>\n",
       "      <td>1</td>\n",
       "      <td>0</td>\n",
       "    </tr>\n",
       "    <tr>\n",
       "      <th>7030</th>\n",
       "      <td>1</td>\n",
       "      <td>1</td>\n",
       "      <td>1</td>\n",
       "      <td>0</td>\n",
       "      <td>0.055556</td>\n",
       "      <td>1</td>\n",
       "      <td>1</td>\n",
       "      <td>0</td>\n",
       "      <td>0</td>\n",
       "      <td>0</td>\n",
       "      <td>...</td>\n",
       "      <td>0</td>\n",
       "      <td>1</td>\n",
       "      <td>0</td>\n",
       "      <td>1</td>\n",
       "      <td>0</td>\n",
       "      <td>0</td>\n",
       "      <td>0</td>\n",
       "      <td>0</td>\n",
       "      <td>0</td>\n",
       "      <td>1</td>\n",
       "    </tr>\n",
       "    <tr>\n",
       "      <th>7031</th>\n",
       "      <td>1</td>\n",
       "      <td>0</td>\n",
       "      <td>0</td>\n",
       "      <td>0</td>\n",
       "      <td>0.916667</td>\n",
       "      <td>1</td>\n",
       "      <td>0</td>\n",
       "      <td>1</td>\n",
       "      <td>0</td>\n",
       "      <td>1</td>\n",
       "      <td>...</td>\n",
       "      <td>0</td>\n",
       "      <td>1</td>\n",
       "      <td>0</td>\n",
       "      <td>0</td>\n",
       "      <td>0</td>\n",
       "      <td>1</td>\n",
       "      <td>1</td>\n",
       "      <td>0</td>\n",
       "      <td>0</td>\n",
       "      <td>0</td>\n",
       "    </tr>\n",
       "  </tbody>\n",
       "</table>\n",
       "<p>7032 rows × 27 columns</p>\n",
       "</div>"
      ],
      "text/plain": [
       "      gender  SeniorCitizen  Partner  Dependents    tenure  PhoneService  \\\n",
       "0          0              0        1           0  0.013889             0   \n",
       "1          1              0        0           0  0.472222             1   \n",
       "2          1              0        0           0  0.027778             1   \n",
       "3          1              0        0           0  0.625000             0   \n",
       "4          0              0        0           0  0.027778             1   \n",
       "...      ...            ...      ...         ...       ...           ...   \n",
       "7027       1              0        1           1  0.333333             1   \n",
       "7028       0              0        1           1  1.000000             1   \n",
       "7029       0              0        1           1  0.152778             0   \n",
       "7030       1              1        1           0  0.055556             1   \n",
       "7031       1              0        0           0  0.916667             1   \n",
       "\n",
       "      MultipleLines  OnlineSecurity  OnlineBackup  DeviceProtection  ...  \\\n",
       "0                 0               0             1                 0  ...   \n",
       "1                 0               1             0                 1  ...   \n",
       "2                 0               1             1                 0  ...   \n",
       "3                 0               1             0                 1  ...   \n",
       "4                 0               0             0                 0  ...   \n",
       "...             ...             ...           ...               ...  ...   \n",
       "7027              1               1             0                 1  ...   \n",
       "7028              1               0             1                 1  ...   \n",
       "7029              0               1             0                 0  ...   \n",
       "7030              1               0             0                 0  ...   \n",
       "7031              0               1             0                 1  ...   \n",
       "\n",
       "      InternetService_DSL  InternetService_Fiber optic  InternetService_No  \\\n",
       "0                       1                            0                   0   \n",
       "1                       1                            0                   0   \n",
       "2                       1                            0                   0   \n",
       "3                       1                            0                   0   \n",
       "4                       0                            1                   0   \n",
       "...                   ...                          ...                 ...   \n",
       "7027                    1                            0                   0   \n",
       "7028                    0                            1                   0   \n",
       "7029                    1                            0                   0   \n",
       "7030                    0                            1                   0   \n",
       "7031                    0                            1                   0   \n",
       "\n",
       "      Contract_Month-to-month  Contract_One year  Contract_Two year  \\\n",
       "0                           1                  0                  0   \n",
       "1                           0                  1                  0   \n",
       "2                           1                  0                  0   \n",
       "3                           0                  1                  0   \n",
       "4                           1                  0                  0   \n",
       "...                       ...                ...                ...   \n",
       "7027                        0                  1                  0   \n",
       "7028                        0                  1                  0   \n",
       "7029                        1                  0                  0   \n",
       "7030                        1                  0                  0   \n",
       "7031                        0                  0                  1   \n",
       "\n",
       "      PaymentMethod_Bank transfer (automatic)  \\\n",
       "0                                           0   \n",
       "1                                           0   \n",
       "2                                           0   \n",
       "3                                           1   \n",
       "4                                           0   \n",
       "...                                       ...   \n",
       "7027                                        0   \n",
       "7028                                        0   \n",
       "7029                                        0   \n",
       "7030                                        0   \n",
       "7031                                        1   \n",
       "\n",
       "      PaymentMethod_Credit card (automatic)  PaymentMethod_Electronic check  \\\n",
       "0                                         0                               1   \n",
       "1                                         0                               0   \n",
       "2                                         0                               0   \n",
       "3                                         0                               0   \n",
       "4                                         0                               1   \n",
       "...                                     ...                             ...   \n",
       "7027                                      0                               0   \n",
       "7028                                      1                               0   \n",
       "7029                                      0                               1   \n",
       "7030                                      0                               0   \n",
       "7031                                      0                               0   \n",
       "\n",
       "      PaymentMethod_Mailed check  \n",
       "0                              0  \n",
       "1                              1  \n",
       "2                              1  \n",
       "3                              0  \n",
       "4                              0  \n",
       "...                          ...  \n",
       "7027                           1  \n",
       "7028                           0  \n",
       "7029                           0  \n",
       "7030                           1  \n",
       "7031                           0  \n",
       "\n",
       "[7032 rows x 27 columns]"
      ]
     },
     "execution_count": 6,
     "metadata": {},
     "output_type": "execute_result"
    }
   ],
   "source": [
    "df1"
   ]
  },
  {
   "cell_type": "code",
   "execution_count": 7,
   "id": "c2846b09",
   "metadata": {},
   "outputs": [],
   "source": [
    "x = df1.drop('Churn',axis=True)\n",
    "y = df1['Churn']"
   ]
  },
  {
   "cell_type": "code",
   "execution_count": 8,
   "id": "268c72b1",
   "metadata": {},
   "outputs": [],
   "source": [
    "x_train,x_test,y_train,y_test = train_test_split(x,y,test_size=0.2,random_state=42)"
   ]
  },
  {
   "cell_type": "code",
   "execution_count": 9,
   "id": "7aa77008",
   "metadata": {},
   "outputs": [
    {
     "name": "stdout",
     "output_type": "stream",
     "text": [
      "              precision    recall  f1-score   support\n",
      "\n",
      "           0       0.72      0.89      0.80       829\n",
      "           1       0.76      0.49      0.60       578\n",
      "\n",
      "    accuracy                           0.73      1407\n",
      "   macro avg       0.74      0.69      0.70      1407\n",
      "weighted avg       0.74      0.73      0.72      1407\n",
      "\n"
     ]
    }
   ],
   "source": [
    "GNB_clf = GaussianNB()\n",
    "GNB_clf.fit(x_train,y_train)\n",
    "y_pred = GNB_clf.predict(x_test)\n",
    "print(classification_report(y_pred,y_test))"
   ]
  },
  {
   "cell_type": "code",
   "execution_count": 10,
   "id": "9b3c6c7b",
   "metadata": {},
   "outputs": [],
   "source": [
    "smn = SMOTEENN()\n",
    "x_new, y_new = smn.fit_resample(x,y)\n",
    "x_new_train, x_new_test, y_new_train, y_new_test = train_test_split(x_new,y_new,test_size=0.2,random_state=0)"
   ]
  },
  {
   "cell_type": "code",
   "execution_count": 11,
   "id": "0aeb4a78",
   "metadata": {},
   "outputs": [
    {
     "name": "stdout",
     "output_type": "stream",
     "text": [
      "              precision    recall  f1-score   support\n",
      "\n",
      "           0       0.92      0.87      0.90       603\n",
      "           1       0.88      0.93      0.91       638\n",
      "\n",
      "    accuracy                           0.90      1241\n",
      "   macro avg       0.90      0.90      0.90      1241\n",
      "weighted avg       0.90      0.90      0.90      1241\n",
      "\n"
     ]
    }
   ],
   "source": [
    "GNB_clf_smooteenn = GaussianNB()\n",
    "GNB_clf_smooteenn.fit(x_new_train,y_new_train)\n",
    "y_new_pred = GNB_clf_smooteenn.predict(x_new_test)\n",
    "print(classification_report(y_new_pred,y_new_test))"
   ]
  },
  {
   "cell_type": "code",
   "execution_count": 12,
   "id": "f1af3a2a",
   "metadata": {},
   "outputs": [
    {
     "data": {
      "text/plain": [
       "0.9024979854955681"
      ]
     },
     "execution_count": 12,
     "metadata": {},
     "output_type": "execute_result"
    }
   ],
   "source": [
    "accuracy_score(y_new_pred,y_new_test)"
   ]
  },
  {
   "cell_type": "code",
   "execution_count": 55,
   "id": "f17a047b",
   "metadata": {},
   "outputs": [
    {
     "name": "stdout",
     "output_type": "stream",
     "text": [
      "Fitting 10 folds for each of 100 candidates, totalling 1000 fits\n",
      "GaussianNB(var_smoothing=0.0533669923120631)\n"
     ]
    }
   ],
   "source": [
    "from sklearn.model_selection import GridSearchCV\n",
    "param_grid = {\n",
    "    'var_smoothing': np.logspace(0,-9, num=100)\n",
    "}\n",
    "nb_grid = GridSearchCV(estimator=GaussianNB(), param_grid=param_grid, verbose=1, cv=10, n_jobs=-1)\n",
    "nb_grid.fit(x_new_train, y_new_train)\n",
    "print(nb_grid.best_estimator_)"
   ]
  },
  {
   "cell_type": "code",
   "execution_count": 13,
   "id": "7a0a6dda",
   "metadata": {},
   "outputs": [
    {
     "name": "stdout",
     "output_type": "stream",
     "text": [
      "              precision    recall  f1-score   support\n",
      "\n",
      "           0       0.90      0.90      0.90       570\n",
      "           1       0.91      0.92      0.91       671\n",
      "\n",
      "    accuracy                           0.91      1241\n",
      "   macro avg       0.91      0.91      0.91      1241\n",
      "weighted avg       0.91      0.91      0.91      1241\n",
      "\n"
     ]
    }
   ],
   "source": [
    "GNB_clf_smooteenn = GaussianNB(var_smoothing=0.23101297000831597) # tuning parameter\n",
    "GNB_clf_smooteenn.fit(x_new_train,y_new_train)\n",
    "y_new_pred = GNB_clf_smooteenn.predict(x_new_test)\n",
    "print(classification_report(y_new_pred,y_new_test))"
   ]
  },
  {
   "cell_type": "code",
   "execution_count": 14,
   "id": "de956004",
   "metadata": {},
   "outputs": [
    {
     "data": {
      "text/plain": [
       "0.9065269943593876"
      ]
     },
     "execution_count": 14,
     "metadata": {},
     "output_type": "execute_result"
    }
   ],
   "source": [
    "# Almost Same result\n",
    "accuracy_score(y_new_pred,y_new_test)"
   ]
  },
  {
   "cell_type": "code",
   "execution_count": 15,
   "id": "f66d16ff",
   "metadata": {},
   "outputs": [],
   "source": [
    "import pickle\n",
    "filename = 'naive_Bayes_Classifier.sav'\n",
    "pickle.dump(GNB_clf_smooteenn,open(filename,'wb'))"
   ]
  },
  {
   "cell_type": "markdown",
   "id": "123ccff7",
   "metadata": {},
   "source": [
    "### Using SVC"
   ]
  },
  {
   "cell_type": "code",
   "execution_count": 20,
   "id": "2fd7091b",
   "metadata": {},
   "outputs": [
    {
     "name": "stdout",
     "output_type": "stream",
     "text": [
      "              precision    recall  f1-score   support\n",
      "\n",
      "           0       0.93      0.93      0.93       549\n",
      "           1       0.94      0.94      0.94       697\n",
      "\n",
      "    accuracy                           0.93      1246\n",
      "   macro avg       0.93      0.93      0.93      1246\n",
      "weighted avg       0.93      0.93      0.93      1246\n",
      "\n"
     ]
    }
   ],
   "source": [
    "from sklearn.svm import SVC\n",
    "svc_clf = SVC(kernel='rbf')\n",
    "svc_clf.fit(x_new_train,y_new_train)\n",
    "y_new_pred = svc_clf.predict(x_new_test)\n",
    "print(classification_report(y_new_pred,y_new_test))"
   ]
  },
  {
   "cell_type": "code",
   "execution_count": 21,
   "id": "945bc5f9",
   "metadata": {},
   "outputs": [
    {
     "data": {
      "text/plain": [
       "0.9341894060995185"
      ]
     },
     "execution_count": 21,
     "metadata": {},
     "output_type": "execute_result"
    }
   ],
   "source": [
    "accuracy_score(y_new_pred,y_new_test)"
   ]
  },
  {
   "cell_type": "code",
   "execution_count": null,
   "id": "c69d12a4",
   "metadata": {},
   "outputs": [],
   "source": [
    "# SVC is also giving a Good Score"
   ]
  },
  {
   "cell_type": "code",
   "execution_count": 59,
   "id": "cbb2de00",
   "metadata": {},
   "outputs": [],
   "source": [
    "import pickle\n",
    "filename = 'SV_Classifier.sav'\n",
    "pickle.dump(svc_clf,open(filename,'wb'))"
   ]
  },
  {
   "cell_type": "markdown",
   "id": "c9c800d3",
   "metadata": {},
   "source": [
    "## Till now XGBClassifier is the best model"
   ]
  },
  {
   "cell_type": "code",
   "execution_count": 22,
   "id": "42679a98",
   "metadata": {},
   "outputs": [],
   "source": [
    "# Lest's check using K-Nearest Neighbours"
   ]
  },
  {
   "cell_type": "code",
   "execution_count": 23,
   "id": "abe77d4c",
   "metadata": {},
   "outputs": [],
   "source": [
    "from sklearn.neighbors import KNeighborsClassifier"
   ]
  },
  {
   "cell_type": "code",
   "execution_count": 24,
   "id": "54c42bbc",
   "metadata": {},
   "outputs": [
    {
     "name": "stdout",
     "output_type": "stream",
     "text": [
      "              precision    recall  f1-score   support\n",
      "\n",
      "           0       0.91      0.97      0.94       515\n",
      "           1       0.98      0.93      0.95       731\n",
      "\n",
      "    accuracy                           0.95      1246\n",
      "   macro avg       0.94      0.95      0.95      1246\n",
      "weighted avg       0.95      0.95      0.95      1246\n",
      "\n"
     ]
    }
   ],
   "source": [
    "knc = KNeighborsClassifier()\n",
    "knc.fit(x_new_train,y_new_train)\n",
    "y_new_pred = knc.predict(x_new_test)\n",
    "print(classification_report(y_new_pred,y_new_test))"
   ]
  },
  {
   "cell_type": "code",
   "execution_count": 30,
   "id": "aa8e11bb",
   "metadata": {
    "scrolled": true
   },
   "outputs": [
    {
     "name": "stdout",
     "output_type": "stream",
     "text": [
      "Best leaf_size: 1\n",
      "Best p: 1\n",
      "Best n_neighbors: 1\n"
     ]
    }
   ],
   "source": [
    "#List Hyperparameters that we want to tune.\n",
    "leaf_size = list(range(1,10))\n",
    "n_neighbors = list(range(1,5))\n",
    "p=[1,2]\n",
    "hyperparameters = dict(leaf_size=leaf_size, n_neighbors=n_neighbors, p=p)\n",
    "\n",
    "knn_2 = KNeighborsClassifier()\n",
    "clf = GridSearchCV(knn_2, hyperparameters, cv=10)\n",
    "\n",
    "best_model = clf.fit(x_new_train,y_new_train)\n",
    "print('Best leaf_size:', best_model.best_estimator_.get_params()['leaf_size'])\n",
    "print('Best p:', best_model.best_estimator_.get_params()['p'])\n",
    "print('Best n_neighbors:', best_model.best_estimator_.get_params()['n_neighbors'])"
   ]
  },
  {
   "cell_type": "code",
   "execution_count": 64,
   "id": "64f4cdc1",
   "metadata": {},
   "outputs": [
    {
     "name": "stdout",
     "output_type": "stream",
     "text": [
      "              precision    recall  f1-score   support\n",
      "\n",
      "           0       0.97      0.99      0.98       527\n",
      "           1       0.99      0.97      0.98       703\n",
      "\n",
      "    accuracy                           0.98      1230\n",
      "   macro avg       0.98      0.98      0.98      1230\n",
      "weighted avg       0.98      0.98      0.98      1230\n",
      "\n"
     ]
    }
   ],
   "source": [
    "knc = KNeighborsClassifier(leaf_size=1,p=1,n_neighbors=1)\n",
    "knc.fit(x_new_train,y_new_train)\n",
    "y_new_pred = knc.predict(x_new_test)\n",
    "print(classification_report(y_new_pred,y_new_test))"
   ]
  },
  {
   "cell_type": "code",
   "execution_count": 65,
   "id": "711595d0",
   "metadata": {},
   "outputs": [
    {
     "data": {
      "text/plain": [
       "0.9796747967479674"
      ]
     },
     "execution_count": 65,
     "metadata": {},
     "output_type": "execute_result"
    }
   ],
   "source": [
    "accuracy_score(y_new_pred,y_new_test)"
   ]
  },
  {
   "cell_type": "code",
   "execution_count": 62,
   "id": "84d89165",
   "metadata": {},
   "outputs": [
    {
     "name": "stdout",
     "output_type": "stream",
     "text": [
      "Mean Accuracy  0.9684777394569469 \n",
      " Mean Precision  0.9569534233226824 \n",
      " Mean Recall  0.9865573999163063 \n",
      " Mean F1 Score  0.9715137293877578\n",
      "None\n",
      "\n",
      "\n"
     ]
    }
   ],
   "source": [
    "# K-Fold Cross-Validation\n",
    "from sklearn.model_selection import cross_validate\n",
    "def cross_validation(model, x, y, cv):\n",
    "    \n",
    "    score = ['accuracy', 'precision', 'recall', 'f1']\n",
    "    results = cross_validate(estimator=model,\n",
    "                               X=x,\n",
    "                               y=y,\n",
    "                               cv=cv,\n",
    "                               scoring=score,\n",
    "                               return_train_score=True)\n",
    "      \n",
    "    print(\n",
    "          \"Mean Accuracy \", results['test_accuracy'].mean(),\"\\n\",\n",
    "          \"Mean Precision \", results['test_precision'].mean(),\"\\n\",\n",
    "          \"Mean Recall \", results['test_recall'].mean(),\"\\n\",\n",
    "          \"Mean F1 Score \", results['test_f1'].mean())\n",
    "result1 = cross_validation(knc,x_new_train, y_new_train, 5)\n",
    "print(result1)\n",
    "print(\"\\n\")"
   ]
  },
  {
   "cell_type": "markdown",
   "id": "8a10ddf8",
   "metadata": {},
   "source": [
    "Best score, but it may be overfitting"
   ]
  },
  {
   "cell_type": "code",
   "execution_count": 36,
   "id": "2a1d9e81",
   "metadata": {},
   "outputs": [],
   "source": [
    "import pickle\n",
    "filename = 'KNN_Classifier.sav'\n",
    "pickle.dump(knc,open(filename,'wb'))"
   ]
  },
  {
   "cell_type": "code",
   "execution_count": null,
   "id": "18a4c3f7",
   "metadata": {},
   "outputs": [],
   "source": []
  }
 ],
 "metadata": {
  "kernelspec": {
   "display_name": "Python 3 (ipykernel)",
   "language": "python",
   "name": "python3"
  },
  "language_info": {
   "codemirror_mode": {
    "name": "ipython",
    "version": 3
   },
   "file_extension": ".py",
   "mimetype": "text/x-python",
   "name": "python",
   "nbconvert_exporter": "python",
   "pygments_lexer": "ipython3",
   "version": "3.10.0"
  }
 },
 "nbformat": 4,
 "nbformat_minor": 5
}
